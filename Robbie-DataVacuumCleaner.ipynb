{
 "cells": [
  {
   "cell_type": "markdown",
   "id": "7effe90f",
   "metadata": {},
   "source": [
    "# Robbie's Data Vacuuming"
   ]
  },
  {
   "cell_type": "code",
   "execution_count": 1,
   "id": "12e35f21",
   "metadata": {},
   "outputs": [],
   "source": [
    "%matplotlib inline\n",
    "import matplotlib.pyplot as plt"
   ]
  },
  {
   "cell_type": "markdown",
   "id": "acc99c1c",
   "metadata": {},
   "source": [
    "### Imports & Setup"
   ]
  },
  {
   "cell_type": "code",
   "execution_count": 2,
   "id": "9657b701",
   "metadata": {},
   "outputs": [
    {
     "name": "stdout",
     "output_type": "stream",
     "text": [
      "Path to glucose datasets: Glucose Data\n",
      "Found glucose dataset: Glucose Data\\UoMGlucose2301.csv\n",
      "Found glucose dataset: Glucose Data\\UoMGlucose2302.csv\n",
      "Found glucose dataset: Glucose Data\\UoMGlucose2303.csv\n",
      "Found glucose dataset: Glucose Data\\UoMGlucose2304.csv\n",
      "Found glucose dataset: Glucose Data\\UoMGlucose2305.csv\n",
      "Found glucose dataset: Glucose Data\\UoMGlucose2306.csv\n",
      "Found glucose dataset: Glucose Data\\UoMGlucose2307.csv\n",
      "Found glucose dataset: Glucose Data\\UoMGlucose2308.csv\n",
      "Found glucose dataset: Glucose Data\\UoMGlucose2309.csv\n",
      "Found glucose dataset: Glucose Data\\UoMGlucose2310.csv\n",
      "Found glucose dataset: Glucose Data\\UoMGlucose2313.csv\n",
      "Found glucose dataset: Glucose Data\\UoMGlucose2314.csv\n",
      "Found glucose dataset: Glucose Data\\UoMGlucose2320.csv\n",
      "Found glucose dataset: Glucose Data\\UoMGlucose2401.csv\n",
      "Found glucose dataset: Glucose Data\\UoMGlucose2403.csv\n",
      "Found glucose dataset: Glucose Data\\UoMGlucose2404.csv\n",
      "Found glucose dataset: Glucose Data\\UoMGlucose2405.csv\n"
     ]
    }
   ],
   "source": [
    "import pandas as pd\n",
    "from pathlib import Path\n",
    "\n",
    "# path to the glucose datasets\n",
    "gpath = Path('.').joinpath('Glucose Data')\n",
    "print('Path to glucose datasets:', gpath)\n",
    "\n",
    "for f in gpath.glob('*.csv'):\n",
    "    print('Found glucose dataset:', f)"
   ]
  },
  {
   "cell_type": "code",
   "execution_count": 3,
   "id": "b42faef2",
   "metadata": {},
   "outputs": [
    {
     "name": "stdout",
     "output_type": "stream",
     "text": [
      "Previewing Glucose Data\\UoMGlucose2301.csv...\n",
      "              bg_ts  value\n",
      "0  01/10/2023 00:04    7.5\n",
      "1  01/10/2023 00:09    8.0\n",
      "2  01/10/2023 00:14    8.6\n",
      "3  01/10/2023 00:19    9.2\n",
      "4  01/10/2023 00:24    9.7\n",
      "                  bg_ts  value\n",
      "45763  18/01/2024 23:48    6.7\n",
      "45764  18/01/2024 23:53    6.7\n",
      "45765  18/01/2024 23:53    6.7\n",
      "45766  18/01/2024 23:58    6.7\n",
      "45767  18/01/2024 23:58    6.7\n",
      "Plotting...\n",
      "                         bg_ts  value\n",
      "1970-01-01 2023-10-01 00:04:00    7.5\n",
      "                         bg_ts  value\n",
      "1970-01-01 2023-10-01 00:04:00    7.5\n"
     ]
    },
    {
     "ename": "KeyError",
     "evalue": "\"None of [DatetimeIndex(['1970-01-01 00:00:00'], dtype='datetime64[ns]', freq='30min')] are in the [columns]\"",
     "output_type": "error",
     "traceback": [
      "\u001b[31m---------------------------------------------------------------------------\u001b[39m",
      "\u001b[31mKeyError\u001b[39m                                  Traceback (most recent call last)",
      "\u001b[36mCell\u001b[39m\u001b[36m \u001b[39m\u001b[32mIn[3]\u001b[39m\u001b[32m, line 32\u001b[39m\n\u001b[32m     28\u001b[39m     \u001b[38;5;28mprint\u001b[39m(\u001b[33mf\u001b[39m\u001b[33m'\u001b[39m\u001b[33mPreviewing \u001b[39m\u001b[38;5;132;01m{\u001b[39;00mfpath\u001b[38;5;132;01m}\u001b[39;00m\u001b[33m...\u001b[39m\u001b[33m'\u001b[39m)\n\u001b[32m     29\u001b[39m     \u001b[38;5;28;01mbreak\u001b[39;00m\n\u001b[32m---> \u001b[39m\u001b[32m32\u001b[39m axes = \u001b[43mpreview_glucose_data\u001b[49m\u001b[43m(\u001b[49m\u001b[43mfpath\u001b[49m\u001b[43m)\u001b[49m\n\u001b[32m     33\u001b[39m axes\n",
      "\u001b[36mCell\u001b[39m\u001b[36m \u001b[39m\u001b[32mIn[3]\u001b[39m\u001b[32m, line 18\u001b[39m, in \u001b[36mpreview_glucose_data\u001b[39m\u001b[34m(file_path)\u001b[39m\n\u001b[32m     16\u001b[39m \u001b[38;5;28mprint\u001b[39m(df_sampled.head())\n\u001b[32m     17\u001b[39m \u001b[38;5;28mprint\u001b[39m(df_sampled.tail())\n\u001b[32m---> \u001b[39m\u001b[32m18\u001b[39m axes = \u001b[43mdf_sampled\u001b[49m\u001b[43m.\u001b[49m\u001b[43mplot\u001b[49m\u001b[43m.\u001b[49m\u001b[43mscatter\u001b[49m\u001b[43m(\u001b[49m\n\u001b[32m     19\u001b[39m \u001b[43m    \u001b[49m\u001b[43mx\u001b[49m\u001b[43m=\u001b[49m\u001b[43mdf_sampled\u001b[49m\u001b[43m.\u001b[49m\u001b[43mindex\u001b[49m\u001b[43m,\u001b[49m\u001b[43m \u001b[49m\u001b[43my\u001b[49m\u001b[43m=\u001b[49m\u001b[33;43m'\u001b[39;49m\u001b[33;43mvalue\u001b[39;49m\u001b[33;43m'\u001b[39;49m\u001b[43m,\u001b[49m\n\u001b[32m     20\u001b[39m \u001b[43m    \u001b[49m\u001b[43mtitle\u001b[49m\u001b[43m=\u001b[49m\u001b[33;43m'\u001b[39;49m\u001b[33;43mGlucose Levels Over Time\u001b[39;49m\u001b[33;43m'\u001b[39;49m\u001b[43m,\u001b[49m\n\u001b[32m     21\u001b[39m \u001b[43m    \u001b[49m\u001b[43mlinestyle\u001b[49m\u001b[43m=\u001b[49m\u001b[33;43m'\u001b[39;49m\u001b[33;43m'\u001b[39;49m\u001b[43m,\u001b[49m\u001b[43m \u001b[49m\u001b[43mmarker\u001b[49m\u001b[43m=\u001b[49m\u001b[33;43m'\u001b[39;49m\u001b[33;43mo\u001b[39;49m\u001b[33;43m'\u001b[39;49m\n\u001b[32m     22\u001b[39m \u001b[43m\u001b[49m\u001b[43m)\u001b[49m\n\u001b[32m     23\u001b[39m \u001b[38;5;28mprint\u001b[39m(\u001b[33m'\u001b[39m\u001b[33m...plotted.\u001b[39m\u001b[33m'\u001b[39m)\n\u001b[32m     24\u001b[39m \u001b[38;5;28;01mreturn\u001b[39;00m axes\n",
      "\u001b[36mFile \u001b[39m\u001b[32md:\\RobbieDocuments\\ManchesterCSCoordinatedDiabetesStudy\\.venv\\Lib\\site-packages\\pandas\\plotting\\_core.py:1748\u001b[39m, in \u001b[36mPlotAccessor.scatter\u001b[39m\u001b[34m(self, x, y, s, c, **kwargs)\u001b[39m\n\u001b[32m   1660\u001b[39m \u001b[38;5;28;01mdef\u001b[39;00m\u001b[38;5;250m \u001b[39m\u001b[34mscatter\u001b[39m(\n\u001b[32m   1661\u001b[39m     \u001b[38;5;28mself\u001b[39m,\n\u001b[32m   1662\u001b[39m     x: Hashable,\n\u001b[32m   (...)\u001b[39m\u001b[32m   1666\u001b[39m     **kwargs,\n\u001b[32m   1667\u001b[39m ) -> PlotAccessor:\n\u001b[32m   1668\u001b[39m \u001b[38;5;250m    \u001b[39m\u001b[33;03m\"\"\"\u001b[39;00m\n\u001b[32m   1669\u001b[39m \u001b[33;03m    Create a scatter plot with varying marker point size and color.\u001b[39;00m\n\u001b[32m   1670\u001b[39m \n\u001b[32m   (...)\u001b[39m\u001b[32m   1746\u001b[39m \u001b[33;03m        ...                       colormap='viridis')\u001b[39;00m\n\u001b[32m   1747\u001b[39m \u001b[33;03m    \"\"\"\u001b[39;00m\n\u001b[32m-> \u001b[39m\u001b[32m1748\u001b[39m     \u001b[38;5;28;01mreturn\u001b[39;00m \u001b[38;5;28;43mself\u001b[39;49m\u001b[43m(\u001b[49m\u001b[43mkind\u001b[49m\u001b[43m=\u001b[49m\u001b[33;43m\"\u001b[39;49m\u001b[33;43mscatter\u001b[39;49m\u001b[33;43m\"\u001b[39;49m\u001b[43m,\u001b[49m\u001b[43m \u001b[49m\u001b[43mx\u001b[49m\u001b[43m=\u001b[49m\u001b[43mx\u001b[49m\u001b[43m,\u001b[49m\u001b[43m \u001b[49m\u001b[43my\u001b[49m\u001b[43m=\u001b[49m\u001b[43my\u001b[49m\u001b[43m,\u001b[49m\u001b[43m \u001b[49m\u001b[43ms\u001b[49m\u001b[43m=\u001b[49m\u001b[43ms\u001b[49m\u001b[43m,\u001b[49m\u001b[43m \u001b[49m\u001b[43mc\u001b[49m\u001b[43m=\u001b[49m\u001b[43mc\u001b[49m\u001b[43m,\u001b[49m\u001b[43m \u001b[49m\u001b[43m*\u001b[49m\u001b[43m*\u001b[49m\u001b[43mkwargs\u001b[49m\u001b[43m)\u001b[49m\n",
      "\u001b[36mFile \u001b[39m\u001b[32md:\\RobbieDocuments\\ManchesterCSCoordinatedDiabetesStudy\\.venv\\Lib\\site-packages\\pandas\\plotting\\_core.py:975\u001b[39m, in \u001b[36mPlotAccessor.__call__\u001b[39m\u001b[34m(self, *args, **kwargs)\u001b[39m\n\u001b[32m    973\u001b[39m \u001b[38;5;28;01mif\u001b[39;00m kind \u001b[38;5;129;01min\u001b[39;00m \u001b[38;5;28mself\u001b[39m._dataframe_kinds:\n\u001b[32m    974\u001b[39m     \u001b[38;5;28;01mif\u001b[39;00m \u001b[38;5;28misinstance\u001b[39m(data, ABCDataFrame):\n\u001b[32m--> \u001b[39m\u001b[32m975\u001b[39m         \u001b[38;5;28;01mreturn\u001b[39;00m \u001b[43mplot_backend\u001b[49m\u001b[43m.\u001b[49m\u001b[43mplot\u001b[49m\u001b[43m(\u001b[49m\u001b[43mdata\u001b[49m\u001b[43m,\u001b[49m\u001b[43m \u001b[49m\u001b[43mx\u001b[49m\u001b[43m=\u001b[49m\u001b[43mx\u001b[49m\u001b[43m,\u001b[49m\u001b[43m \u001b[49m\u001b[43my\u001b[49m\u001b[43m=\u001b[49m\u001b[43my\u001b[49m\u001b[43m,\u001b[49m\u001b[43m \u001b[49m\u001b[43mkind\u001b[49m\u001b[43m=\u001b[49m\u001b[43mkind\u001b[49m\u001b[43m,\u001b[49m\u001b[43m \u001b[49m\u001b[43m*\u001b[49m\u001b[43m*\u001b[49m\u001b[43mkwargs\u001b[49m\u001b[43m)\u001b[49m\n\u001b[32m    976\u001b[39m     \u001b[38;5;28;01melse\u001b[39;00m:\n\u001b[32m    977\u001b[39m         \u001b[38;5;28;01mraise\u001b[39;00m \u001b[38;5;167;01mValueError\u001b[39;00m(\u001b[33mf\u001b[39m\u001b[33m\"\u001b[39m\u001b[33mplot kind \u001b[39m\u001b[38;5;132;01m{\u001b[39;00mkind\u001b[38;5;132;01m}\u001b[39;00m\u001b[33m can only be used for data frames\u001b[39m\u001b[33m\"\u001b[39m)\n",
      "\u001b[36mFile \u001b[39m\u001b[32md:\\RobbieDocuments\\ManchesterCSCoordinatedDiabetesStudy\\.venv\\Lib\\site-packages\\pandas\\plotting\\_matplotlib\\__init__.py:71\u001b[39m, in \u001b[36mplot\u001b[39m\u001b[34m(data, kind, **kwargs)\u001b[39m\n\u001b[32m     69\u001b[39m         kwargs[\u001b[33m\"\u001b[39m\u001b[33max\u001b[39m\u001b[33m\"\u001b[39m] = \u001b[38;5;28mgetattr\u001b[39m(ax, \u001b[33m\"\u001b[39m\u001b[33mleft_ax\u001b[39m\u001b[33m\"\u001b[39m, ax)\n\u001b[32m     70\u001b[39m plot_obj = PLOT_CLASSES[kind](data, **kwargs)\n\u001b[32m---> \u001b[39m\u001b[32m71\u001b[39m \u001b[43mplot_obj\u001b[49m\u001b[43m.\u001b[49m\u001b[43mgenerate\u001b[49m\u001b[43m(\u001b[49m\u001b[43m)\u001b[49m\n\u001b[32m     72\u001b[39m plot_obj.draw()\n\u001b[32m     73\u001b[39m \u001b[38;5;28;01mreturn\u001b[39;00m plot_obj.result\n",
      "\u001b[36mFile \u001b[39m\u001b[32md:\\RobbieDocuments\\ManchesterCSCoordinatedDiabetesStudy\\.venv\\Lib\\site-packages\\pandas\\plotting\\_matplotlib\\core.py:501\u001b[39m, in \u001b[36mMPLPlot.generate\u001b[39m\u001b[34m(self)\u001b[39m\n\u001b[32m    499\u001b[39m \u001b[38;5;28mself\u001b[39m._compute_plot_data()\n\u001b[32m    500\u001b[39m fig = \u001b[38;5;28mself\u001b[39m.fig\n\u001b[32m--> \u001b[39m\u001b[32m501\u001b[39m \u001b[38;5;28;43mself\u001b[39;49m\u001b[43m.\u001b[49m\u001b[43m_make_plot\u001b[49m\u001b[43m(\u001b[49m\u001b[43mfig\u001b[49m\u001b[43m)\u001b[49m\n\u001b[32m    502\u001b[39m \u001b[38;5;28mself\u001b[39m._add_table()\n\u001b[32m    503\u001b[39m \u001b[38;5;28mself\u001b[39m._make_legend()\n",
      "\u001b[36mFile \u001b[39m\u001b[32md:\\RobbieDocuments\\ManchesterCSCoordinatedDiabetesStudy\\.venv\\Lib\\site-packages\\pandas\\plotting\\_matplotlib\\core.py:1352\u001b[39m, in \u001b[36mScatterPlot._make_plot\u001b[39m\u001b[34m(self, fig)\u001b[39m\n\u001b[32m   1349\u001b[39m \u001b[38;5;28;01melse\u001b[39;00m:\n\u001b[32m   1350\u001b[39m     label = \u001b[38;5;28;01mNone\u001b[39;00m\n\u001b[32m   1351\u001b[39m scatter = ax.scatter(\n\u001b[32m-> \u001b[39m\u001b[32m1352\u001b[39m     \u001b[43mdata\u001b[49m\u001b[43m[\u001b[49m\u001b[43mx\u001b[49m\u001b[43m]\u001b[49m.values,\n\u001b[32m   1353\u001b[39m     data[y].values,\n\u001b[32m   1354\u001b[39m     c=c_values,\n\u001b[32m   1355\u001b[39m     label=label,\n\u001b[32m   1356\u001b[39m     cmap=cmap,\n\u001b[32m   1357\u001b[39m     norm=norm,\n\u001b[32m   1358\u001b[39m     s=\u001b[38;5;28mself\u001b[39m.s,\n\u001b[32m   1359\u001b[39m     **\u001b[38;5;28mself\u001b[39m.kwds,\n\u001b[32m   1360\u001b[39m )\n\u001b[32m   1361\u001b[39m \u001b[38;5;28;01mif\u001b[39;00m cb:\n\u001b[32m   1362\u001b[39m     cbar_label = c \u001b[38;5;28;01mif\u001b[39;00m c_is_column \u001b[38;5;28;01melse\u001b[39;00m \u001b[33m\"\u001b[39m\u001b[33m\"\u001b[39m\n",
      "\u001b[36mFile \u001b[39m\u001b[32md:\\RobbieDocuments\\ManchesterCSCoordinatedDiabetesStudy\\.venv\\Lib\\site-packages\\pandas\\core\\frame.py:4113\u001b[39m, in \u001b[36mDataFrame.__getitem__\u001b[39m\u001b[34m(self, key)\u001b[39m\n\u001b[32m   4111\u001b[39m     \u001b[38;5;28;01mif\u001b[39;00m is_iterator(key):\n\u001b[32m   4112\u001b[39m         key = \u001b[38;5;28mlist\u001b[39m(key)\n\u001b[32m-> \u001b[39m\u001b[32m4113\u001b[39m     indexer = \u001b[38;5;28;43mself\u001b[39;49m\u001b[43m.\u001b[49m\u001b[43mcolumns\u001b[49m\u001b[43m.\u001b[49m\u001b[43m_get_indexer_strict\u001b[49m\u001b[43m(\u001b[49m\u001b[43mkey\u001b[49m\u001b[43m,\u001b[49m\u001b[43m \u001b[49m\u001b[33;43m\"\u001b[39;49m\u001b[33;43mcolumns\u001b[39;49m\u001b[33;43m\"\u001b[39;49m\u001b[43m)\u001b[49m[\u001b[32m1\u001b[39m]\n\u001b[32m   4115\u001b[39m \u001b[38;5;66;03m# take() does not accept boolean indexers\u001b[39;00m\n\u001b[32m   4116\u001b[39m \u001b[38;5;28;01mif\u001b[39;00m \u001b[38;5;28mgetattr\u001b[39m(indexer, \u001b[33m\"\u001b[39m\u001b[33mdtype\u001b[39m\u001b[33m\"\u001b[39m, \u001b[38;5;28;01mNone\u001b[39;00m) == \u001b[38;5;28mbool\u001b[39m:\n",
      "\u001b[36mFile \u001b[39m\u001b[32md:\\RobbieDocuments\\ManchesterCSCoordinatedDiabetesStudy\\.venv\\Lib\\site-packages\\pandas\\core\\indexes\\base.py:6212\u001b[39m, in \u001b[36mIndex._get_indexer_strict\u001b[39m\u001b[34m(self, key, axis_name)\u001b[39m\n\u001b[32m   6209\u001b[39m \u001b[38;5;28;01melse\u001b[39;00m:\n\u001b[32m   6210\u001b[39m     keyarr, indexer, new_indexer = \u001b[38;5;28mself\u001b[39m._reindex_non_unique(keyarr)\n\u001b[32m-> \u001b[39m\u001b[32m6212\u001b[39m \u001b[38;5;28;43mself\u001b[39;49m\u001b[43m.\u001b[49m\u001b[43m_raise_if_missing\u001b[49m\u001b[43m(\u001b[49m\u001b[43mkeyarr\u001b[49m\u001b[43m,\u001b[49m\u001b[43m \u001b[49m\u001b[43mindexer\u001b[49m\u001b[43m,\u001b[49m\u001b[43m \u001b[49m\u001b[43maxis_name\u001b[49m\u001b[43m)\u001b[49m\n\u001b[32m   6214\u001b[39m keyarr = \u001b[38;5;28mself\u001b[39m.take(indexer)\n\u001b[32m   6215\u001b[39m \u001b[38;5;28;01mif\u001b[39;00m \u001b[38;5;28misinstance\u001b[39m(key, Index):\n\u001b[32m   6216\u001b[39m     \u001b[38;5;66;03m# GH 42790 - Preserve name from an Index\u001b[39;00m\n",
      "\u001b[36mFile \u001b[39m\u001b[32md:\\RobbieDocuments\\ManchesterCSCoordinatedDiabetesStudy\\.venv\\Lib\\site-packages\\pandas\\core\\indexes\\base.py:6261\u001b[39m, in \u001b[36mIndex._raise_if_missing\u001b[39m\u001b[34m(self, key, indexer, axis_name)\u001b[39m\n\u001b[32m   6259\u001b[39m \u001b[38;5;28;01mif\u001b[39;00m nmissing:\n\u001b[32m   6260\u001b[39m     \u001b[38;5;28;01mif\u001b[39;00m nmissing == \u001b[38;5;28mlen\u001b[39m(indexer):\n\u001b[32m-> \u001b[39m\u001b[32m6261\u001b[39m         \u001b[38;5;28;01mraise\u001b[39;00m \u001b[38;5;167;01mKeyError\u001b[39;00m(\u001b[33mf\u001b[39m\u001b[33m\"\u001b[39m\u001b[33mNone of [\u001b[39m\u001b[38;5;132;01m{\u001b[39;00mkey\u001b[38;5;132;01m}\u001b[39;00m\u001b[33m] are in the [\u001b[39m\u001b[38;5;132;01m{\u001b[39;00maxis_name\u001b[38;5;132;01m}\u001b[39;00m\u001b[33m]\u001b[39m\u001b[33m\"\u001b[39m)\n\u001b[32m   6263\u001b[39m     not_found = \u001b[38;5;28mlist\u001b[39m(ensure_index(key)[missing_mask.nonzero()[\u001b[32m0\u001b[39m]].unique())\n\u001b[32m   6264\u001b[39m     \u001b[38;5;28;01mraise\u001b[39;00m \u001b[38;5;167;01mKeyError\u001b[39;00m(\u001b[33mf\u001b[39m\u001b[33m\"\u001b[39m\u001b[38;5;132;01m{\u001b[39;00mnot_found\u001b[38;5;132;01m}\u001b[39;00m\u001b[33m not in index\u001b[39m\u001b[33m\"\u001b[39m)\n",
      "\u001b[31mKeyError\u001b[39m: \"None of [DatetimeIndex(['1970-01-01 00:00:00'], dtype='datetime64[ns]', freq='30min')] are in the [columns]\""
     ]
    },
    {
     "data": {
      "image/png": "[encoded data removed]",
      "text/plain": [
       "<Figure size 640x480 with 1 Axes>"
      ]
     },
     "metadata": {},
     "output_type": "display_data"
    }
   ],
   "source": [
    "# Preview some glucose data\n",
    "import matplotlib.pyplot as plt\n",
    "\n",
    "\n",
    "def preview_glucose_data(file_path):\n",
    "    plt.close('all')\n",
    "    df = pd.read_csv(file_path)\n",
    "    print(df.head())\n",
    "    print(df.tail())\n",
    "    print('Plotting...')\n",
    "    df['bg_ts'] = pd.to_datetime(df['bg_ts'], dayfirst=True, errors='coerce')\n",
    "    df.set_index(pd.DatetimeIndex(df.index), inplace=True, drop=False)\n",
    "    df_sampled = df \\\n",
    "        .sort_index() \\\n",
    "        .resample('30min').asfreq()\n",
    "    print(df_sampled.head())\n",
    "    print(df_sampled.tail())\n",
    "    axes = df_sampled.plot.scatter(\n",
    "        x=df_sampled.index, y='value',\n",
    "        title='Glucose Levels Over Time',\n",
    "        linestyle='', marker='o'\n",
    "    )\n",
    "    print('...plotted.')\n",
    "    return axes\n",
    "\n",
    "preview_fpath = gpath.glob(\"*.csv\")\n",
    "for fpath in preview_fpath:\n",
    "    print(f'Previewing {fpath}...')\n",
    "    break\n",
    "\n",
    "\n",
    "axes = preview_glucose_data(fpath)\n",
    "axes"
   ]
  },
  {
   "cell_type": "markdown",
   "id": "d97a3b24",
   "metadata": {},
   "source": [
    "#### Export CSVs to JSON"
   ]
  },
  {
   "cell_type": "code",
   "execution_count": null,
   "id": "fad38f2f",
   "metadata": {},
   "outputs": [],
   "source": [
    "from typing import List, Any\n",
    "\n",
    "\n",
    "class GlucoseDataLoader:\n",
    "    \n",
    "    \"\"\"A class to handle loading and converting glucose data from CSV to JSON format.\"\"\"\n",
    "    \n",
    "    def __init__(self, data_path: Path = gpath):\n",
    "        self.data_path: Path = Path(data_path)\n",
    "\n",
    "    def __call__(self, fpath: Path | List[Path]) -> Any:\n",
    "        \"\"\"Load CSV data and convert it to JSON format.\n",
    "\n",
    "        Args:\n",
    "            fpath (Path | List[Path]): The file path(s) to the CSV file(s).\n",
    "        \"\"\"\n",
    "        return self.loadCsvData(fpath)\n",
    "\n",
    "    def loadCsvData(self, fpath: Path | List[Path]) -> None:\n",
    "        \"\"\"Load a CSV file and convert it to Parquet.\"\"\"\n",
    "        if isinstance(fpath, Path):\n",
    "            fpath = [fpath, ]  # ensure fpath becomes a list of paths\n",
    "        for path in fpath:\n",
    "            df = pd.read_csv(path)\n",
    "            df.name = path.name.replace('.csv', '')\n",
    "            jpath = self.data_path / 'parquet'\n",
    "            jpath /= path.name.replace('.csv', '.parquet')\n",
    "            df.to_parquet(jpath, index=False)\n"
   ]
  },
  {
   "cell_type": "code",
   "execution_count": null,
   "id": "866c5bdf",
   "metadata": {},
   "outputs": [],
   "source": [
    "gloader = GlucoseDataLoader()\n",
    "gloader.loadCsvData"
   ]
  }
 ],
 "metadata": {
  "kernelspec": {
   "display_name": ".venv",
   "language": "python",
   "name": "python3"
  },
  "language_info": {
   "codemirror_mode": {
    "name": "ipython",
    "version": 3
   },
   "file_extension": ".py",
   "mimetype": "text/x-python",
   "name": "python",
   "nbconvert_exporter": "python",
   "pygments_lexer": "ipython3",
   "version": "3.12.10"
  }
 },
 "nbformat": 4,
 "nbformat_minor": 5
}
